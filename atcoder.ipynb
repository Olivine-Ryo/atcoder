{
 "cells": [
  {
   "cell_type": "code",
   "execution_count": 1,
   "metadata": {},
   "outputs": [
    {
     "data": {
      "application/vnd.jupyter.widget-view+json": {
       "model_id": "be289b84110d48f5a44f55f729767840",
       "version_major": 2,
       "version_minor": 0
      },
      "text/plain": [
       "Textarea(value='')"
      ]
     },
     "metadata": {},
     "output_type": "display_data"
    }
   ],
   "source": [
    "from ipywidgets import Textarea\n",
    "import io\n",
    "\n",
    "if 'open' in globals():\n",
    "    del open\n",
    "if 'input' in globals():\n",
    "    del input\n",
    "\n",
    "original_open = open\n",
    "\n",
    "class custom_open():\n",
    "    def __init__(self):\n",
    "        self.text = ''\n",
    "\n",
    "    def __call__(self, file, *args, **kwargs):\n",
    "        if file == 0:\n",
    "            return io.StringIO(self.text)\n",
    "        return original_open(file, *args, **kwargs)\n",
    "\n",
    "    def updater(self, change):\n",
    "        self.text = change[\"new\"]\n",
    "\n",
    "class custom_input():\n",
    "    def __init__(self):\n",
    "        self.__sio = io.StringIO('')\n",
    "        self.shell = get_ipython()\n",
    "        if self.shell.events.callbacks['pre_run_cell'] != []:\n",
    "            self.shell.events.callbacks['pre_run_cell'] = []\n",
    "        self.shell.events.register('pre_run_cell', self.pre_run_cell)\n",
    "\n",
    "    def __call__(self):\n",
    "        return self.__sio.readline().strip()\n",
    "\n",
    "    def pre_run_cell(self, info):\n",
    "        text = self.shell.user_ns.get('text_area', None).value\n",
    "        self.__sio = io.StringIO(text)\n",
    "\n",
    "open = custom_open()\n",
    "input = custom_input()\n",
    "\n",
    "text_area = Textarea()\n",
    "text_area.observe(open.updater, names='value')\n",
    "display(text_area)"
   ]
  },
  {
   "cell_type": "code",
   "execution_count": 101,
   "metadata": {},
   "outputs": [
    {
     "data": {
      "text/plain": [
       "[11, 22, 32, 33, 14, 33, 14, 1]"
      ]
     },
     "execution_count": 101,
     "metadata": {},
     "output_type": "execute_result"
    }
   ],
   "source": []
  },
  {
   "cell_type": "code",
   "execution_count": 13,
   "metadata": {},
   "outputs": [
    {
     "name": "stdout",
     "output_type": "stream",
     "text": [
      "1 [1] [] 0\n",
      "2 [1, 2] (2, 1) 3\n",
      "3 [1, 2, 3] (3, 1, 2) 9\n",
      "4 [1, 2, 3, 4] (4, 3, 1, 2) 21\n",
      "5 [1, 2, 3, 4, 5] (5, 4, 1, 2, 3) 40\n",
      "6 [1, 2, 3, 4, 5, 6] (6, 5, 4, 1, 2, 3) 67\n",
      "7 [1, 2, 3, 4, 5, 6, 7] (7, 6, 5, 1, 2, 3, 4) 106\n"
     ]
    }
   ],
   "source": [
    "from collections import defaultdict\n",
    "from itertools import permutations\n",
    "import numpy as np\n",
    "#n=int(input())\n",
    "#A=[int(i) for i in input().split()]\n",
    "AA=[1,2,3,4,5,6,7]\n",
    "for i in range(1,len(AA)+1):\n",
    "    A=AA[0:i]\n",
    "    aa = set(A)\n",
    "    def f(A):\n",
    "        idx=defaultdict(list)\n",
    "        for i,a in enumerate(A):\n",
    "            idx[a].append(i)\n",
    "        return idx\n",
    "\n",
    "    ida =f(A)\n",
    "\n",
    "    #print(A)\n",
    "\n",
    "    def calc(ida,idb,aa):\n",
    "        dist = 0\n",
    "        for i in aa:\n",
    "            l1 = ida[i]\n",
    "            l2 = idb[i]\n",
    "            l1.sort()\n",
    "            l2.sort()\n",
    "            m1 = sum([abs(i-j) for i,j in zip(l1,l2[::-1])])\n",
    "            m2 = sum([abs(i-j) for i,j in zip(l1[::-1],l2)])\n",
    "            #print(i,max(m1,m2)*i)\n",
    "            dist+=max(m1,m2)*i\n",
    "        return dist\n",
    "\n",
    "    ans = 0\n",
    "    maxb = []\n",
    "    for a in list(permutations(A)):\n",
    "        #print(a)\n",
    "        idb = f(list(a))\n",
    "        c = calc(ida,idb,aa)\n",
    "        if c > ans:\n",
    "            maxb = a\n",
    "            ans = c\n",
    "    print(i,A,maxb,ans)"
   ]
  },
  {
   "cell_type": "code",
   "execution_count": 14,
   "metadata": {},
   "outputs": [
    {
     "name": "stdout",
     "output_type": "stream",
     "text": [
      "40\n"
     ]
    }
   ],
   "source": [
    "from collections import defaultdict\n",
    "n=int(input())\n",
    "A=[int(i) for i in input().split()]\n",
    "#A=[1,10,2,4,3,9,5,7]\n",
    "#A=[8,6,9,1,2,1]\n",
    "peak=[]\n",
    "\n",
    "keep = A[0]\n",
    "\n",
    "def f(A):\n",
    "    idx=defaultdict(list)\n",
    "    for i,a in enumerate(A):\n",
    "        idx[a].append(i)\n",
    "    return idx\n",
    "def calc(ida,idb,aa):\n",
    "    dist = 0\n",
    "    for i in aa:\n",
    "        l1 = ida[i]\n",
    "        l2 = idb[i]\n",
    "        l1.sort()\n",
    "        l2.sort()\n",
    "        m1 = sum([abs(i-j) for i,j in zip(l1,l2[::-1])])\n",
    "        m2 = sum([abs(i-j) for i,j in zip(l1[::-1],l2)])\n",
    "        #print(i,max(m1,m2)*i)\n",
    "        dist+=max(m1,m2)*i\n",
    "    return dist\n",
    "\n",
    "for i in range(1,len(A)):\n",
    "    if keep>A[i]:\n",
    "        l = A[:i-1]\n",
    "        r = A[i-1:]\n",
    "        l.sort()\n",
    "        r.sort(reverse=True)\n",
    "        #print(r,l)\n",
    "        r.extend(l)\n",
    "        peak.append(r)\n",
    "        l = A[:i]\n",
    "        r = A[i:]\n",
    "        l.sort()\n",
    "        r.sort(reverse=True)\n",
    "        #print(r,l)\n",
    "        r.extend(l)\n",
    "        peak.append(r)\n",
    "    keep = A[i]\n",
    "\n",
    "if len(peak) == 0:\n",
    "    if len(A)%2==0:\n",
    "        yy = len(A)//2\n",
    "        B=A[yy:][::-1]\n",
    "        B.extend(A[:yy])\n",
    "        ida =f(A)\n",
    "        idb =f(B)\n",
    "        #print(calc(ida,idb,aa))\n",
    "        cal = calc(ida,idb,aa)\n",
    "        print(cal)\n",
    "    else:\n",
    "        yy = len(A)//2 + 1\n",
    "        B=A[yy:][::-1]\n",
    "        B.extend(A[:yy])\n",
    "        ida =f(A)\n",
    "        idb =f(B)\n",
    "        #print(calc(ida,idb,aa))\n",
    "        cal = calc(ida,idb,aa)\n",
    "        print(cal)\n",
    "else:\n",
    "    ans = 0\n",
    "    for B in peak:\n",
    "        aa = set(A)\n",
    "        ida =f(A)\n",
    "        idb =f(B)\n",
    "        #print(calc(ida,idb,aa))\n",
    "        cal = calc(ida,idb,aa)\n",
    "        ans = max(ans,cal)\n",
    "    print(ans)"
   ]
  },
  {
   "cell_type": "code",
   "execution_count": 10,
   "metadata": {},
   "outputs": [
    {
     "data": {
      "text/plain": [
       "[3, 4, 2, 1]"
      ]
     },
     "execution_count": 10,
     "metadata": {},
     "output_type": "execute_result"
    }
   ],
   "source": [
    "B"
   ]
  },
  {
   "cell_type": "code",
   "execution_count": 144,
   "metadata": {},
   "outputs": [
    {
     "data": {
      "text/plain": [
       "[[10, 9, 7, 5, 4, 3, 2, 1],\n",
       " [9, 7, 5, 4, 3, 1, 2, 10],\n",
       " [9, 7, 5, 1, 2, 3, 4, 10]]"
      ]
     },
     "execution_count": 144,
     "metadata": {},
     "output_type": "execute_result"
    }
   ],
   "source": [
    "peak"
   ]
  },
  {
   "cell_type": "code",
   "execution_count": 47,
   "metadata": {
    "jupyter": {
     "source_hidden": true
    }
   },
   "outputs": [
    {
     "name": "stdout",
     "output_type": "stream",
     "text": [
      "2 3\n",
      "3 3\n",
      "4 3\n",
      "4\n"
     ]
    }
   ],
   "source": [
    "n,k=[int(i) for i in input().split()]\n",
    "#dp=[0 for _ in range(k+2)]\n",
    "#dp[k+1] = 1\n",
    "def cmb(n, r, p):\n",
    "    if (r < 0) or (n < r):\n",
    "        return 0\n",
    "    r = min(r, n - r)\n",
    "    return fact[n] * factinv[r] * factinv[n-r] % p\n",
    "\n",
    "p = 10 ** 9 + 7\n",
    "N = 2*10 ** 5+1  # N は必要分だけ用意する\n",
    "fact = [1, 1]\n",
    "factinv = [1, 1]\n",
    "inv = [0, 1]\n",
    " \n",
    "for i in range(2, N + 1):\n",
    "    fact.append((fact[-1] * i) % p)\n",
    "    inv.append((-inv[p % i] * (p // i)) % p)\n",
    "    factinv.append((factinv[-1] * inv[-1]) % p)\n",
    "\n",
    "\n",
    "ans=0\n",
    "for i in range(k,n+2):\n",
    "    ans = (ans+ cmb(n, i, p))%p\n",
    "    print(i,cmb(n,2,p))\n",
    "print(ans)"
   ]
  },
  {
   "cell_type": "code",
   "execution_count": 17,
   "metadata": {},
   "outputs": [],
   "source": [
    "n,q=[int(i) for i in input().split()]\n",
    "edge=[[] for _ in range(n)]\n",
    "for _ in range(n-1):\n",
    "    a,b = [int(i) for i in input().split()]\n",
    "    edge[a-1].append(b-1)\n",
    "    if edge[b-1] != []:\n",
    "        edge[a-1].extend(edge[b-1])\n",
    "    else:\n",
    "        pass\n",
    "        \n",
    "    edge[b-1].append(a-1)\n",
    "    if edge[a-1] != []:\n",
    "        edge[b-1].extend(edge[a-1])\n",
    "    else:\n",
    "        pass"
   ]
  },
  {
   "cell_type": "code",
   "execution_count": 18,
   "metadata": {},
   "outputs": [
    {
     "data": {
      "text/plain": [
       "[[1], [0, 1, 2, 3], [1, 0, 1, 2], [1, 0, 1, 2, 3]]"
      ]
     },
     "execution_count": 18,
     "metadata": {},
     "output_type": "execute_result"
    }
   ],
   "source": [
    "edge"
   ]
  },
  {
   "cell_type": "code",
   "execution_count": 7,
   "metadata": {},
   "outputs": [
    {
     "name": "stdout",
     "output_type": "stream",
     "text": [
      "8\n"
     ]
    }
   ],
   "source": [
    "import numpy as np\n",
    "\n",
    "H,W = map(int,input().split())\n",
    "temp = np.array([list(input()) for _ in range(H)])\n",
    "# 周りに壁を、0,1化\n",
    "map = np.zeros((H+2,W+2),dtype=np.int32)\n",
    "map[1:-1,1:-1][temp == '.'] = 1\n",
    "\n",
    "# x軸正方向の集計\n",
    "def F():\n",
    "  x = map.copy()\n",
    "  for row in range(1,H+1):\n",
    "    zero_idx = np.nonzero(x[row]==0)[0]\n",
    "    x[row, zero_idx[1:]] = 1-np.diff(zero_idx) # cumsumで求められるように変形\n",
    "  x = x.cumsum(axis = 1)\n",
    "  return x\n",
    "\n",
    "# y軸\n",
    "def G():\n",
    "  x = map.T.copy()\n",
    "  for row in range(1,W+1):\n",
    "    zero_idx = np.nonzero(x[row]==0)[0]\n",
    "    x[row, zero_idx[1:]] = 1-np.diff(zero_idx) # cumsumで求められるように変形\n",
    "  x = x.cumsum(axis = 1)\n",
    "  return x.T\n",
    "\n",
    "answer = np.zeros_like(map)\n",
    "# x軸\n",
    "answer += F()\n",
    "# 逆順\n",
    "map = map[:,::-1]\n",
    "answer += F()[:,::-1]\n",
    "map = map[:,::-1]\n",
    "\n",
    "# y軸\n",
    "answer += G()\n",
    "# 逆順\n",
    "map = map[::-1,:]\n",
    "answer += G()[::-1,:]\n",
    "\n",
    "answer = np.max(answer) - 3\n",
    "print(answer)"
   ]
  },
  {
   "cell_type": "code",
   "execution_count": 355,
   "metadata": {},
   "outputs": [
    {
     "data": {
      "text/plain": [
       "[[-3, 5, 4, -3, 3, 2],\n",
       " [6, 8, 7, 7, 6, -3],\n",
       " [5, 7, 6, 6, -3, 2],\n",
       " [-3, 4, -3, 5, 3, 4]]"
      ]
     },
     "execution_count": 355,
     "metadata": {},
     "output_type": "execute_result"
    }
   ],
   "source": [
    "M"
   ]
  },
  {
   "cell_type": "code",
   "execution_count": 346,
   "metadata": {},
   "outputs": [
    {
     "data": {
      "text/plain": [
       "[[0, 1, 1, 0, 1, 1],\n",
       " [1, 2, 2, 1, 2, 0],\n",
       " [2, 3, 3, 2, 0, 1],\n",
       " [0, 4, 0, 3, 1, 2],\n",
       " [0, 2, 1, 0, 2, 1],\n",
       " [5, 4, 3, 2, 1, 0],\n",
       " [4, 3, 2, 1, 0, 1],\n",
       " [0, 1, 0, 3, 2, 1]]"
      ]
     },
     "execution_count": 346,
     "metadata": {},
     "output_type": "execute_result"
    }
   ],
   "source": [
    "AA+BB"
   ]
  },
  {
   "cell_type": "code",
   "execution_count": 342,
   "metadata": {},
   "outputs": [
    {
     "data": {
      "text/plain": [
       "[[0, 2, 1, 0, 2, 1],\n",
       " [5, 4, 3, 2, 1, 0],\n",
       " [4, 3, 2, 1, 0, 1],\n",
       " [0, 1, 0, 3, 2, 1]]"
      ]
     },
     "execution_count": 342,
     "metadata": {},
     "output_type": "execute_result"
    }
   ],
   "source": [
    "BB"
   ]
  },
  {
   "cell_type": "code",
   "execution_count": 343,
   "metadata": {},
   "outputs": [
    {
     "data": {
      "text/plain": [
       "[[0, 4, 3, 0, 2, 1],\n",
       " [2, 3, 2, 3, 1, 0],\n",
       " [1, 2, 1, 2, 0, 2],\n",
       " [0, 1, 0, 1, 1, 1]]"
      ]
     },
     "execution_count": 343,
     "metadata": {},
     "output_type": "execute_result"
    }
   ],
   "source": [
    "CC"
   ]
  },
  {
   "cell_type": "code",
   "execution_count": 339,
   "metadata": {},
   "outputs": [
    {
     "data": {
      "text/plain": [
       "[[True, True, True, False, True, False],\n",
       " [True, False, True, True, True, True],\n",
       " [False, True, True, True, True, True],\n",
       " [True, True, False, True, True, False]]"
      ]
     },
     "execution_count": 339,
     "metadata": {},
     "output_type": "execute_result"
    }
   ],
   "source": [
    "B"
   ]
  },
  {
   "cell_type": "code",
   "execution_count": 340,
   "metadata": {},
   "outputs": [
    {
     "data": {
      "text/plain": [
       "[[False, True, True, False],\n",
       " [True, True, True, True],\n",
       " [False, True, True, True],\n",
       " [True, True, True, False],\n",
       " [True, False, True, True],\n",
       " [True, True, False, True]]"
      ]
     },
     "execution_count": 340,
     "metadata": {},
     "output_type": "execute_result"
    }
   ],
   "source": [
    "C"
   ]
  },
  {
   "cell_type": "code",
   "execution_count": 304,
   "metadata": {},
   "outputs": [
    {
     "data": {
      "text/plain": [
       "[[0, 1, 2, 0, 1, 2],\n",
       " [1, 2, 3, 4, 5, 0],\n",
       " [1, 2, 3, 4, 0, 1],\n",
       " [0, 1, 0, 1, 2, 3]]"
      ]
     },
     "execution_count": 304,
     "metadata": {},
     "output_type": "execute_result"
    }
   ],
   "source": [
    "convert(L)"
   ]
  },
  {
   "cell_type": "code",
   "execution_count": 309,
   "metadata": {},
   "outputs": [
    {
     "data": {
      "text/plain": [
       "[[0, 2, 1, 0, 2, 1],\n",
       " [5, 4, 3, 2, 1, 0],\n",
       " [4, 3, 2, 1, 0, 1],\n",
       " [0, 1, 0, 3, 2, 1]]"
      ]
     },
     "execution_count": 309,
     "metadata": {},
     "output_type": "execute_result"
    }
   ],
   "source": [
    "mir(convert(mir(L)))"
   ]
  },
  {
   "cell_type": "code",
   "execution_count": 286,
   "metadata": {},
   "outputs": [
    {
     "name": "stdout",
     "output_type": "stream",
     "text": [
      "8\n"
     ]
    }
   ],
   "source": [
    "import numpy as np\n",
    " \n",
    "def convert(L):\n",
    "    dp = np.zeros((L.shape[0],L.shape[1]), dtype='int')\n",
    "    for i in range(L.shape[0]):\n",
    "        l=L[i]\n",
    "        for j in range(L.shape[1]):\n",
    "            if l[j]:\n",
    "                if j == 0:\n",
    "                    dp[i][j] = 1\n",
    "                else:\n",
    "                    dp[i][j] = dp[i][j-1] + 1\n",
    "            else:\n",
    "                dp[i][j] = 0\n",
    "    return dp\n",
    "H,W=map(int,input().split())\n",
    "L= np.zeros((H,W),dtype='bool')\n",
    "for i in range(H):\n",
    "    L[i]=list(map(lambda x: False if x==\"#\" else True,list(input()) ))\n",
    " \n",
    "ans = convert(L) + np.fliplr(convert(np.fliplr(L))) + convert(L.T).T + np.flipud(convert(np.flipud(L).T).T) - 3\n",
    "print(np.max(ans))\n"
   ]
  },
  {
   "cell_type": "code",
   "execution_count": 288,
   "metadata": {},
   "outputs": [
    {
     "data": {
      "text/plain": [
       "array([[0, 2, 1, 0, 2, 1],\n",
       "       [5, 4, 3, 2, 1, 0],\n",
       "       [4, 3, 2, 1, 0, 1],\n",
       "       [0, 1, 0, 3, 2, 1]])"
      ]
     },
     "execution_count": 288,
     "metadata": {},
     "output_type": "execute_result"
    }
   ],
   "source": [
    "np.fliplr(convert(np.fliplr(L))) "
   ]
  },
  {
   "cell_type": "code",
   "execution_count": 302,
   "metadata": {},
   "outputs": [
    {
     "data": {
      "text/plain": [
       "[[True, True, False, True, True, False],\n",
       " [False, True, True, True, True, True],\n",
       " [True, False, True, True, True, True],\n",
       " [True, True, True, False, True, False]]"
      ]
     },
     "execution_count": 302,
     "metadata": {},
     "output_type": "execute_result"
    }
   ],
   "source": [
    "[list(l[::-1]) for l in L]"
   ]
  },
  {
   "cell_type": "code",
   "execution_count": 300,
   "metadata": {},
   "outputs": [
    {
     "data": {
      "text/plain": [
       "array([[False,  True, False,  True,  True,  True],\n",
       "       [ True,  True,  True,  True, False,  True],\n",
       "       [ True,  True,  True,  True,  True, False],\n",
       "       [False,  True,  True, False,  True,  True]])"
      ]
     },
     "execution_count": 300,
     "metadata": {},
     "output_type": "execute_result"
    }
   ],
   "source": [
    "L[::-1]"
   ]
  },
  {
   "cell_type": "code",
   "execution_count": 297,
   "metadata": {},
   "outputs": [
    {
     "data": {
      "text/plain": [
       "array([[0, 1, 2, 0, 1, 2],\n",
       "       [1, 2, 3, 4, 5, 0],\n",
       "       [1, 2, 3, 4, 0, 1],\n",
       "       [0, 1, 0, 1, 2, 3]])"
      ]
     },
     "execution_count": 297,
     "metadata": {},
     "output_type": "execute_result"
    }
   ],
   "source": [
    "convert(L[::-1])[::-1]"
   ]
  },
  {
   "cell_type": "code",
   "execution_count": 290,
   "metadata": {},
   "outputs": [
    {
     "data": {
      "text/plain": [
       "array([[0, 1, 2, 0, 1, 2],\n",
       "       [1, 2, 3, 4, 5, 0],\n",
       "       [1, 2, 3, 4, 0, 1],\n",
       "       [0, 1, 0, 1, 2, 3]])"
      ]
     },
     "execution_count": 290,
     "metadata": {},
     "output_type": "execute_result"
    }
   ],
   "source": [
    "convert(L)"
   ]
  },
  {
   "cell_type": "code",
   "execution_count": 269,
   "metadata": {},
   "outputs": [
    {
     "data": {
      "text/plain": [
       "[[False, True, True, False, True, True],\n",
       " [True, True, True, True, True, False],\n",
       " [True, True, True, True, False, True],\n",
       " [False, True, False, True, True, True]]"
      ]
     },
     "execution_count": 269,
     "metadata": {},
     "output_type": "execute_result"
    }
   ],
   "source": [
    "L"
   ]
  },
  {
   "cell_type": "code",
   "execution_count": 265,
   "metadata": {},
   "outputs": [
    {
     "data": {
      "text/plain": [
       "[[False, True, True, False],\n",
       " [False, True, True, False],\n",
       " [False, True, True, False],\n",
       " [False, True, True, False],\n",
       " [False, True, True, False],\n",
       " [False, True, True, False]]"
      ]
     },
     "execution_count": 265,
     "metadata": {},
     "output_type": "execute_result"
    }
   ],
   "source": [
    "K"
   ]
  },
  {
   "cell_type": "code",
   "execution_count": 259,
   "metadata": {},
   "outputs": [
    {
     "data": {
      "text/plain": [
       "[[False, True, True, False, True, True],\n",
       " [True, True, True, True, True, False],\n",
       " [True, True, True, True, False, True],\n",
       " [False, True, False, True, True, True]]"
      ]
     },
     "execution_count": 259,
     "metadata": {},
     "output_type": "execute_result"
    }
   ],
   "source": [
    "L"
   ]
  },
  {
   "cell_type": "code",
   "execution_count": 203,
   "metadata": {},
   "outputs": [],
   "source": [
    "from library import UnionFind\n",
    "\n",
    "N=int(input())\n",
    "K=[]\n",
    "for _ in range(N-1):\n",
    "    K.append(list(map(int,input().split())))\n",
    "tree = UnionFind(N)\n",
    "for u,v,w in K:\n",
    "    if w%2==0:\n",
    "        tree.union(u-1,v-1)"
   ]
  },
  {
   "cell_type": "code",
   "execution_count": 205,
   "metadata": {},
   "outputs": [],
   "source": [
    "# N: 頂点数\n",
    "# G[v]: 頂点vの子頂点 (親頂点は含まない)\n",
    "#\n",
    "# - construct\n",
    "# prv[u] = v: 頂点uの一つ上の祖先頂点v\n",
    "# - lca\n",
    "# kprv[k][u] = v: 頂点uの2^k個上の祖先頂点v\n",
    "# depth[u]: 頂点uの深さ (根頂点は0)\n",
    "\n",
    "LV = (N-1).bit_length()\n",
    "def construct(prv):\n",
    "    kprv = [prv]\n",
    "    S = prv\n",
    "    for k in range(LV):\n",
    "        T = [0]*N\n",
    "        for i in range(N):\n",
    "            if S[i] is None:\n",
    "                continue\n",
    "            T[i] = S[S[i]]\n",
    "        kprv.append(T)\n",
    "        S = T\n",
    "    return kprv\n",
    "\n",
    "def lca(u, v, kprv, depth):\n",
    "    dd = depth[v] - depth[u]\n",
    "    if dd < 0:\n",
    "        u, v = v, u\n",
    "        dd = -dd\n",
    "\n",
    "    # assert depth[u] <= depth[v]\n",
    "    for k in range(LV+1):\n",
    "        if dd & 1:\n",
    "            v = kprv[k][v]\n",
    "        dd >>= 1\n",
    "\n",
    "    # assert depth[u] == depth[v]\n",
    "    if u == v:\n",
    "        return u\n",
    "\n",
    "    for k in range(LV-1, -1, -1):\n",
    "        pu = kprv[k][u]; pv = kprv[k][v]\n",
    "        if pu != pv:\n",
    "            u = pu; v = pv\n",
    "\n",
    "    # assert kprv[0][u] == kprv[0][v]\n",
    "    return kprv[0][u]"
   ]
  },
  {
   "cell_type": "code",
   "execution_count": 206,
   "metadata": {},
   "outputs": [],
   "source": [
    "import random as r\n",
    "\n",
    "namelist=['apple','grape','orange','lemon','banana']\n",
    "\n",
    "class node:\n",
    "    def __init__(self, name, children):\n",
    "        self.name = name  # String\n",
    "        self.children = children  # List of Class node\n",
    "\n",
    "    def display(self, indent = 0):\n",
    "        if self.children != None:\n",
    "            print(' '*indent)+self.name\n",
    "            for c in self.children:\n",
    "                c.display(indent+1)\n",
    "        else:\n",
    "            print(' '*indent)+self.name\n",
    "\n",
    "        \n",
    "\n",
    "def maketree(maxdepth):\n",
    "    if (maxdepth > 0):\n",
    "        children = [ maketree(maxdepth-1) for i in range(2) ]\n",
    "    else:\n",
    "        children = None\n",
    "\n",
    "    rootnode = node(r.choice(namelist),children)\n",
    "    return rootnode"
   ]
  },
  {
   "cell_type": "code",
   "execution_count": 229,
   "metadata": {},
   "outputs": [],
   "source": []
  },
  {
   "cell_type": "code",
   "execution_count": 225,
   "metadata": {},
   "outputs": [
    {
     "name": "stdout",
     "output_type": "stream",
     "text": [
      "1\n",
      "1\n",
      "1\n",
      "1\n",
      "1\n"
     ]
    }
   ],
   "source": [
    "N=int(input())\n",
    "edge = [[] for _ in range(N+1)]\n",
    "\n",
    "for _ in range(N-1):\n",
    "    u,v,w=[int(x) for x in input().split()]\n",
    "    if w&1:\n",
    "        edge[u].append((v,-1))\n",
    "        edge[v].append((u,-1))\n",
    "    else:\n",
    "        edge[u].append((v,1))\n",
    "        edge[v].append((u,1))\n",
    "    \n",
    "color = [None]*(N+1)\n",
    "\n",
    "def set_color(v,c):\n",
    "    color[v]=c\n",
    "    for x,sgn in edge[v]:\n",
    "        if color[x] is None:\n",
    "            set_color(x,sgn*c)\n",
    "set_color(1,1)\n",
    "\n",
    "for x in color[1:]:\n",
    "    print((x+1)//2)"
   ]
  },
  {
   "cell_type": "code",
   "execution_count": 223,
   "metadata": {},
   "outputs": [
    {
     "data": {
      "text/plain": [
       "1"
      ]
     },
     "execution_count": 223,
     "metadata": {},
     "output_type": "execute_result"
    }
   ],
   "source": [
    "3&1"
   ]
  },
  {
   "cell_type": "code",
   "execution_count": null,
   "metadata": {},
   "outputs": [],
   "source": [
    "color = [-1 for _ in range(N)]\n",
    "for u,v,w in K:\n",
    "    if w%2==0:\n",
    "        color[u-1]"
   ]
  },
  {
   "cell_type": "code",
   "execution_count": 27,
   "metadata": {},
   "outputs": [],
   "source": [
    "orders = [[\"David\",\"3\",\"Ceviche\"],[\"Corina\",\"10\",\"Beef Burrito\"],[\"David\",\"3\",\"Fried Chicken\"],[\"Carla\",\"5\",\"Water\"],[\"Carla\",\"5\",\"Ceviche\"],[\"Rous\",\"3\",\"Ceviche\"]]"
   ]
  },
  {
   "cell_type": "code",
   "execution_count": 28,
   "metadata": {},
   "outputs": [
    {
     "name": "stdout",
     "output_type": "stream",
     "text": [
      "3 Ceviche\n",
      "10 Beef Burrito\n",
      "3 Fried Chicken\n",
      "5 Water\n",
      "5 Ceviche\n",
      "3 Ceviche\n"
     ]
    }
   ],
   "source": [
    "for _, n, f in orders:\n",
    "    print(n,f)"
   ]
  },
  {
   "cell_type": "code",
   "execution_count": 102,
   "metadata": {},
   "outputs": [],
   "source": [
    "n,m,k=2,3,1"
   ]
  },
  {
   "cell_type": "code",
   "execution_count": 103,
   "metadata": {},
   "outputs": [],
   "source": [
    "def maxi(l):\n",
    "    mv=-1\n",
    "    mi=-1\n",
    "    sc=0\n",
    "    n=len(l)\n",
    "    for i in range(n):\n",
    "        if mv<l[i]:\n",
    "            mv=l[i]\n",
    "            mi=i\n",
    "            sc+=1\n",
    "    return l,mv,mi,sc"
   ]
  },
  {
   "cell_type": "code",
   "execution_count": 104,
   "metadata": {},
   "outputs": [
    {
     "data": {
      "text/plain": [
       "([4, 6, 2, 8, 4, 6], 8, 3, 3)"
      ]
     },
     "execution_count": 104,
     "metadata": {},
     "output_type": "execute_result"
    }
   ],
   "source": [
    "maxi([4,6,2,8,4,6])"
   ]
  },
  {
   "cell_type": "code",
   "execution_count": 82,
   "metadata": {},
   "outputs": [],
   "source": [
    "fs = [0 for _ in range(len(T))]"
   ]
  },
  {
   "cell_type": "code",
   "execution_count": null,
   "metadata": {},
   "outputs": [],
   "source": [
    "for t in T:\n",
    "    if t "
   ]
  },
  {
   "cell_type": "code",
   "execution_count": 71,
   "metadata": {},
   "outputs": [
    {
     "data": {
      "text/plain": [
       "[['Table', 'Beef Burrito', 'Ceviche', 'Fried Chicken', 'Water'],\n",
       " [3, 0, 2, 1, 0],\n",
       " [5, 0, 1, 0, 1],\n",
       " [10, 1, 0, 0, 0]]"
      ]
     },
     "execution_count": 71,
     "metadata": {},
     "output_type": "execute_result"
    }
   ],
   "source": [
    "[[\"Table\",\"Beef Burrito\",\"Ceviche\",\"Fried Chicken\",\"Water\"],[\"3\",\"0\",\"2\",\"1\",\"0\"],[\"5\",\"0\",\"1\",\"0\",\"1\"],[\"10\",\"1\",\"0\",\"0\",\"0\"]]"
   ]
  },
  {
   "cell_type": "code",
   "execution_count": 193,
   "metadata": {},
   "outputs": [
    {
     "name": "stdout",
     "output_type": "stream",
     "text": [
      "39174129192\n"
     ]
    }
   ],
   "source": [
    "N = 50\n",
    "M = 100\n",
    "K = 25\n",
    "lim = 10**9+7\n",
    "dp = [[[0 for _ in range(N+2)] for _ in range(M+2)] for _ in range(N+2)]\n",
    "for i in range(1,M+1):\n",
    "    dp[0][i][1] = 1\n",
    "\n",
    "for n in range(1,N):\n",
    "    for max_ in range(1,M+1):\n",
    "        for k in range(1,K+1):\n",
    "            for l in range(1,max_):\n",
    "                dp[n][max_][k] += dp[n-1][l][k-1]\n",
    "                dp[n][max_][k] += dp[n-1][max_][k]*max_\n",
    "                dp[n][max_][k] %= lim\n",
    "print(sum([dp[N-1][i][K] for i in range(M+1)]))"
   ]
  },
  {
   "cell_type": "code",
   "execution_count": 189,
   "metadata": {},
   "outputs": [
    {
     "data": {
      "text/plain": [
       "[0, 0, 2, 6]"
      ]
     },
     "execution_count": 189,
     "metadata": {},
     "output_type": "execute_result"
    }
   ],
   "source": [
    "[dp[N-1][i][K] for i in range(M+1)]"
   ]
  },
  {
   "cell_type": "code",
   "execution_count": 190,
   "metadata": {},
   "outputs": [
    {
     "data": {
      "text/plain": [
       "[[[0, 0, 0, 0], [0, 1, 0, 0], [0, 1, 0, 0], [0, 1, 0, 0], [0, 0, 0, 0]],\n",
       " [[0, 0, 0, 0], [0, 0, 0, 0], [0, 2, 0, 0], [0, 6, 0, 0], [0, 0, 0, 0]],\n",
       " [[0, 0, 0, 0], [0, 0, 0, 0], [0, 0, 0, 0], [0, 0, 0, 0], [0, 0, 0, 0]],\n",
       " [[0, 0, 0, 0], [0, 0, 0, 0], [0, 0, 0, 0], [0, 0, 0, 0], [0, 0, 0, 0]]]"
      ]
     },
     "execution_count": 190,
     "metadata": {},
     "output_type": "execute_result"
    }
   ],
   "source": [
    "dp"
   ]
  },
  {
   "cell_type": "code",
   "execution_count": 152,
   "metadata": {},
   "outputs": [
    {
     "data": {
      "text/plain": [
       "[[[1, 1, 1], [0, 0, 0], [0, 0, 0]], [[1, 2, 3], [0, 1, 2], [0, 0, 0]]]"
      ]
     },
     "execution_count": 152,
     "metadata": {},
     "output_type": "execute_result"
    }
   ],
   "source": [
    "i:n\n",
    "j:max_\n",
    "l:k\n",
    "ii:l"
   ]
  },
  {
   "cell_type": "code",
   "execution_count": null,
   "metadata": {},
   "outputs": [],
   "source": [
    "n,"
   ]
  },
  {
   "cell_type": "code",
   "execution_count": 75,
   "metadata": {},
   "outputs": [],
   "source": [
    "def f(s):\n",
    "    if s[-1]==\"a\":\n",
    "        return [s+\"b\",s+\"c\"]\n",
    "    elif s[-1]==\"b\":\n",
    "        return [s+\"a\",s+\"c\"]\n",
    "    else:\n",
    "        return [s+\"a\",s+\"b\"]"
   ]
  },
  {
   "cell_type": "code",
   "execution_count": 89,
   "metadata": {},
   "outputs": [],
   "source": [
    "def g(n):\n",
    "    k=[\"a\",\"b\",\"c\"]\n",
    "    if n==1:\n",
    "        return k\n",
    "    else:\n",
    "        h=g(n-1)\n",
    "        ans=[]\n",
    "        for l in h:\n",
    "            for j in k:\n",
    "                if l[-1] != j:\n",
    "                    ans.append(l+j)\n",
    "        return ans"
   ]
  },
  {
   "cell_type": "code",
   "execution_count": 91,
   "metadata": {},
   "outputs": [],
   "source": [
    "ans = g(3)"
   ]
  },
  {
   "cell_type": "code",
   "execution_count": 117,
   "metadata": {},
   "outputs": [],
   "source": [
    "def fib_memo(n):\n",
    "    memo=[\"EMPTY\"]*(n+1)\n",
    "    def _fib(n):\n",
    "        if n == 1:\n",
    "            return 0\n",
    "        elif n == 2:\n",
    "            return 1\n",
    "        elif memo[n] != \"EMPTY\":\n",
    "            return memo[n]\n",
    "        else:\n",
    "            memo[n] = _fib(n-1)+_fib(n-2)\n",
    "            return memo[n]\n",
    "    return _fib(n)"
   ]
  },
  {
   "cell_type": "code",
   "execution_count": 125,
   "metadata": {},
   "outputs": [],
   "source": [
    "def func(n):\n",
    "    fibonacci = [1,1]\n",
    "    for i in range(2,n):\n",
    "        fibonacci.append(fibonacci[i-2]+fibonacci[i-1])\n",
    "    return fibonacci"
   ]
  },
  {
   "cell_type": "code",
   "execution_count": 127,
   "metadata": {},
   "outputs": [],
   "source": [
    "fs =func(50)"
   ]
  },
  {
   "cell_type": "code",
   "execution_count": 231,
   "metadata": {},
   "outputs": [
    {
     "name": "stdout",
     "output_type": "stream",
     "text": [
      "411743991\n"
     ]
    }
   ],
   "source": [
    "from collections import defaultdict\n",
    "s = \"600342244431311113256628376226052681059918526204\"\n",
    "k = 703\n",
    "lim = 10**9+7\n",
    "dp = [[0,0] for _ in range(len(s))]\n",
    "for i,t in enumerate(s):\n",
    "    if i == 0:\n",
    "        dp[i][0]=1\n",
    "        dp[i][1]={t:1}\n",
    "    else:\n",
    "        l=defaultdict(int)\n",
    "        for z,m in dp[i-1][1].items():\n",
    "            if ((int(z+t)<=k) and (int(z+t)>0)):\n",
    "                l[z+t] +=m\n",
    "                #l.append(z+t)\n",
    "        if t != \"0\":\n",
    "            l[t] += dp[i-1][0]\n",
    "            #l.extend([t]*dp[i-1][0])\n",
    "        dp[i][0] = sum(l.values()) % lim\n",
    "        dp[i][1] = l\n",
    "print(dp[-1][0])"
   ]
  },
  {
   "cell_type": "code",
   "execution_count": 256,
   "metadata": {},
   "outputs": [
    {
     "data": {
      "text/plain": [
       "2"
      ]
     },
     "execution_count": 256,
     "metadata": {},
     "output_type": "execute_result"
    }
   ],
   "source": [
    "eval(\"0o1+1\")"
   ]
  },
  {
   "cell_type": "code",
   "execution_count": 251,
   "metadata": {},
   "outputs": [],
   "source": [
    "class Solution:\n",
    "    def isNumber(self, s: str) -> bool:\n",
    "        if s == \"e\" or s == \" \":\n",
    "            return False\n",
    "        else:\n",
    "            try:\n",
    "                print(eval(\"%s+1\" % s))\n",
    "                return True\n",
    "            except:\n",
    "                return False"
   ]
  },
  {
   "cell_type": "code",
   "execution_count": 252,
   "metadata": {},
   "outputs": [],
   "source": [
    "a=Solution()"
   ]
  },
  {
   "cell_type": "code",
   "execution_count": 254,
   "metadata": {},
   "outputs": [
    {
     "data": {
      "text/plain": [
       "False"
      ]
     },
     "execution_count": 254,
     "metadata": {},
     "output_type": "execute_result"
    }
   ],
   "source": [
    "a.isNumber(\"01\")"
   ]
  },
  {
   "cell_type": "code",
   "execution_count": 213,
   "metadata": {},
   "outputs": [
    {
     "name": "stdout",
     "output_type": "stream",
     "text": [
      "34\n"
     ]
    }
   ],
   "source": [
    "from collections import defaultdict\n",
    "s = \"1234567890\"\n",
    "k = 90\n",
    "\n",
    "dp = [[0,[]] for _ in range(len(s))]\n",
    "for i,t in enumerate(s):\n",
    "    if i == 0:\n",
    "        dp[i][0]=1\n",
    "        dp[i][1].append(t)\n",
    "    else:\n",
    "        l=[]\n",
    "        for z in dp[i-1][1]:\n",
    "            if ((int(z+t)<=k) and (int(z+t)>0)):\n",
    "                l.append(z+t)\n",
    "        if t != \"0\":\n",
    "            l.extend([t]*dp[i-1][0])\n",
    "        dp[i][0] = len(l)\n",
    "        dp[i][1] = l\n",
    "print(dp[-1][0])"
   ]
  },
  {
   "cell_type": "code",
   "execution_count": 214,
   "metadata": {},
   "outputs": [
    {
     "data": {
      "text/plain": [
       "[[1, ['1']],\n",
       " [2, ['12', '2']],\n",
       " [3, ['23', '3', '3']],\n",
       " [5, ['34', '34', '4', '4', '4']],\n",
       " [8, ['45', '45', '45', '5', '5', '5', '5', '5']],\n",
       " [13, ['56', '56', '56', '56', '56', '6', '6', '6', '6', '6', '6', '6', '6']],\n",
       " [21,\n",
       "  ['67',\n",
       "   '67',\n",
       "   '67',\n",
       "   '67',\n",
       "   '67',\n",
       "   '67',\n",
       "   '67',\n",
       "   '67',\n",
       "   '7',\n",
       "   '7',\n",
       "   '7',\n",
       "   '7',\n",
       "   '7',\n",
       "   '7',\n",
       "   '7',\n",
       "   '7',\n",
       "   '7',\n",
       "   '7',\n",
       "   '7',\n",
       "   '7',\n",
       "   '7']],\n",
       " [34,\n",
       "  ['78',\n",
       "   '78',\n",
       "   '78',\n",
       "   '78',\n",
       "   '78',\n",
       "   '78',\n",
       "   '78',\n",
       "   '78',\n",
       "   '78',\n",
       "   '78',\n",
       "   '78',\n",
       "   '78',\n",
       "   '78',\n",
       "   '8',\n",
       "   '8',\n",
       "   '8',\n",
       "   '8',\n",
       "   '8',\n",
       "   '8',\n",
       "   '8',\n",
       "   '8',\n",
       "   '8',\n",
       "   '8',\n",
       "   '8',\n",
       "   '8',\n",
       "   '8',\n",
       "   '8',\n",
       "   '8',\n",
       "   '8',\n",
       "   '8',\n",
       "   '8',\n",
       "   '8',\n",
       "   '8',\n",
       "   '8']],\n",
       " [55,\n",
       "  ['89',\n",
       "   '89',\n",
       "   '89',\n",
       "   '89',\n",
       "   '89',\n",
       "   '89',\n",
       "   '89',\n",
       "   '89',\n",
       "   '89',\n",
       "   '89',\n",
       "   '89',\n",
       "   '89',\n",
       "   '89',\n",
       "   '89',\n",
       "   '89',\n",
       "   '89',\n",
       "   '89',\n",
       "   '89',\n",
       "   '89',\n",
       "   '89',\n",
       "   '89',\n",
       "   '9',\n",
       "   '9',\n",
       "   '9',\n",
       "   '9',\n",
       "   '9',\n",
       "   '9',\n",
       "   '9',\n",
       "   '9',\n",
       "   '9',\n",
       "   '9',\n",
       "   '9',\n",
       "   '9',\n",
       "   '9',\n",
       "   '9',\n",
       "   '9',\n",
       "   '9',\n",
       "   '9',\n",
       "   '9',\n",
       "   '9',\n",
       "   '9',\n",
       "   '9',\n",
       "   '9',\n",
       "   '9',\n",
       "   '9',\n",
       "   '9',\n",
       "   '9',\n",
       "   '9',\n",
       "   '9',\n",
       "   '9',\n",
       "   '9',\n",
       "   '9',\n",
       "   '9',\n",
       "   '9',\n",
       "   '9']],\n",
       " [34,\n",
       "  ['90',\n",
       "   '90',\n",
       "   '90',\n",
       "   '90',\n",
       "   '90',\n",
       "   '90',\n",
       "   '90',\n",
       "   '90',\n",
       "   '90',\n",
       "   '90',\n",
       "   '90',\n",
       "   '90',\n",
       "   '90',\n",
       "   '90',\n",
       "   '90',\n",
       "   '90',\n",
       "   '90',\n",
       "   '90',\n",
       "   '90',\n",
       "   '90',\n",
       "   '90',\n",
       "   '90',\n",
       "   '90',\n",
       "   '90',\n",
       "   '90',\n",
       "   '90',\n",
       "   '90',\n",
       "   '90',\n",
       "   '90',\n",
       "   '90',\n",
       "   '90',\n",
       "   '90',\n",
       "   '90',\n",
       "   '90']]]"
      ]
     },
     "execution_count": 214,
     "metadata": {},
     "output_type": "execute_result"
    }
   ],
   "source": [
    "dp"
   ]
  },
  {
   "cell_type": "code",
   "execution_count": null,
   "metadata": {},
   "outputs": [],
   "source": []
  },
  {
   "cell_type": "code",
   "execution_count": 132,
   "metadata": {},
   "outputs": [
    {
     "name": "stdout",
     "output_type": "stream",
     "text": [
      "2\n"
     ]
    }
   ],
   "source": [
    "k=7\n",
    "ans = []\n",
    "for f in fs[::-1]:\n",
    "    if f<=k:\n",
    "        ans.append(f)\n",
    "        k -= f\n",
    "print(len(ans))"
   ]
  },
  {
   "cell_type": "code",
   "execution_count": 95,
   "metadata": {},
   "outputs": [
    {
     "ename": "RecursionError",
     "evalue": "maximum recursion depth exceeded",
     "output_type": "error",
     "traceback": [
      "\u001b[0;31m---------------------------------------------------------------\u001b[0m",
      "\u001b[0;31mRecursionError\u001b[0m                Traceback (most recent call last)",
      "\u001b[0;32m<ipython-input-95-38b673bec846>\u001b[0m in \u001b[0;36m<module>\u001b[0;34m\u001b[0m\n\u001b[1;32m      1\u001b[0m \u001b[0;32mfor\u001b[0m \u001b[0mi\u001b[0m \u001b[0;32min\u001b[0m \u001b[0mrange\u001b[0m\u001b[0;34m(\u001b[0m\u001b[0;36m100\u001b[0m\u001b[0;34m)\u001b[0m\u001b[0;34m:\u001b[0m\u001b[0;34m\u001b[0m\u001b[0;34m\u001b[0m\u001b[0m\n\u001b[0;32m----> 2\u001b[0;31m     \u001b[0;32mif\u001b[0m \u001b[0mFib\u001b[0m\u001b[0;34m(\u001b[0m\u001b[0mi\u001b[0m\u001b[0;34m)\u001b[0m \u001b[0;34m>\u001b[0m \u001b[0;36m10\u001b[0m\u001b[0;34m**\u001b[0m\u001b[0;36m9\u001b[0m\u001b[0;34m:\u001b[0m\u001b[0;34m\u001b[0m\u001b[0;34m\u001b[0m\u001b[0m\n\u001b[0m\u001b[1;32m      3\u001b[0m         \u001b[0mprint\u001b[0m\u001b[0;34m(\u001b[0m\u001b[0mi\u001b[0m\u001b[0;34m,\u001b[0m\u001b[0mFib\u001b[0m\u001b[0;34m(\u001b[0m\u001b[0mi\u001b[0m\u001b[0;34m)\u001b[0m\u001b[0;34m)\u001b[0m\u001b[0;34m\u001b[0m\u001b[0;34m\u001b[0m\u001b[0m\n\u001b[1;32m      4\u001b[0m         \u001b[0;32mbreak\u001b[0m\u001b[0;34m\u001b[0m\u001b[0;34m\u001b[0m\u001b[0m\n",
      "\u001b[0;32m<ipython-input-92-0d9db6fe4463>\u001b[0m in \u001b[0;36mFib\u001b[0;34m(n)\u001b[0m\n\u001b[1;32m      7\u001b[0m         \u001b[0;32mreturn\u001b[0m \u001b[0;36m1\u001b[0m\u001b[0;34m\u001b[0m\u001b[0;34m\u001b[0m\u001b[0m\n\u001b[1;32m      8\u001b[0m     \u001b[0;32melse\u001b[0m\u001b[0;34m:\u001b[0m\u001b[0;34m\u001b[0m\u001b[0;34m\u001b[0m\u001b[0m\n\u001b[0;32m----> 9\u001b[0;31m         \u001b[0;32mreturn\u001b[0m \u001b[0mFib\u001b[0m\u001b[0;34m(\u001b[0m\u001b[0mn\u001b[0m\u001b[0;34m-\u001b[0m\u001b[0;36m1\u001b[0m\u001b[0;34m)\u001b[0m \u001b[0;34m+\u001b[0m \u001b[0mFib\u001b[0m\u001b[0;34m(\u001b[0m\u001b[0mn\u001b[0m\u001b[0;34m-\u001b[0m\u001b[0;36m2\u001b[0m\u001b[0;34m)\u001b[0m\u001b[0;34m\u001b[0m\u001b[0;34m\u001b[0m\u001b[0m\n\u001b[0m",
      "... last 1 frames repeated, from the frame below ...\n",
      "\u001b[0;32m<ipython-input-92-0d9db6fe4463>\u001b[0m in \u001b[0;36mFib\u001b[0;34m(n)\u001b[0m\n\u001b[1;32m      7\u001b[0m         \u001b[0;32mreturn\u001b[0m \u001b[0;36m1\u001b[0m\u001b[0;34m\u001b[0m\u001b[0;34m\u001b[0m\u001b[0m\n\u001b[1;32m      8\u001b[0m     \u001b[0;32melse\u001b[0m\u001b[0;34m:\u001b[0m\u001b[0;34m\u001b[0m\u001b[0;34m\u001b[0m\u001b[0m\n\u001b[0;32m----> 9\u001b[0;31m         \u001b[0;32mreturn\u001b[0m \u001b[0mFib\u001b[0m\u001b[0;34m(\u001b[0m\u001b[0mn\u001b[0m\u001b[0;34m-\u001b[0m\u001b[0;36m1\u001b[0m\u001b[0;34m)\u001b[0m \u001b[0;34m+\u001b[0m \u001b[0mFib\u001b[0m\u001b[0;34m(\u001b[0m\u001b[0mn\u001b[0m\u001b[0;34m-\u001b[0m\u001b[0;36m2\u001b[0m\u001b[0;34m)\u001b[0m\u001b[0;34m\u001b[0m\u001b[0;34m\u001b[0m\u001b[0m\n\u001b[0m",
      "\u001b[0;31mRecursionError\u001b[0m: maximum recursion depth exceeded"
     ]
    }
   ],
   "source": [
    "for i in range(100):\n",
    "    if Fib(i) > 10**9:\n",
    "        print(i,Fib(i))\n",
    "        break"
   ]
  },
  {
   "cell_type": "code",
   "execution_count": 77,
   "metadata": {},
   "outputs": [
    {
     "name": "stdout",
     "output_type": "stream",
     "text": [
      "['babab', 'babac']\n",
      "['babba', 'babbc']\n",
      "['babca', 'babcb']\n"
     ]
    }
   ],
   "source": [
    "for i in [\"a\",\"b\",\"c\"]:\n",
    "    print(f(\"bab\"+i))"
   ]
  },
  {
   "cell_type": "code",
   "execution_count": 46,
   "metadata": {
    "collapsed": true,
    "jupyter": {
     "outputs_hidden": true
    }
   },
   "outputs": [
    {
     "name": "stdout",
     "output_type": "stream",
     "text": [
      "3 0 0\n",
      "[ 1 0\n",
      "a 1 0\n",
      "b 1 0\n",
      "c 1 0\n",
      "] 1 0\n",
      "3[abc]\n",
      "\n",
      "6 6\n",
      "y 0 0\n",
      "t 0 0\n",
      "h 0 0\n",
      "t 0 0\n",
      "n 0 0\n",
      "f 0 0\n",
      "4 0 0\n",
      "[ 1 0\n",
      "a 1 0\n",
      "b 1 0\n",
      "] 1 0\n",
      "ythtnf4[ab]\n"
     ]
    },
    {
     "ename": "KeyboardInterrupt",
     "evalue": "",
     "output_type": "error",
     "traceback": [
      "\u001b[0;31m---------------------------------------------------------------\u001b[0m",
      "\u001b[0;31mKeyboardInterrupt\u001b[0m             Traceback (most recent call last)",
      "\u001b[0;32m<ipython-input-46-21aa4a283d13>\u001b[0m in \u001b[0;36m<module>\u001b[0;34m\u001b[0m\n\u001b[1;32m     20\u001b[0m             \u001b[0midx_e\u001b[0m \u001b[0;34m+=\u001b[0m \u001b[0;36m1\u001b[0m\u001b[0;34m\u001b[0m\u001b[0;34m\u001b[0m\u001b[0m\n\u001b[1;32m     21\u001b[0m     \u001b[0midx_next\u001b[0m \u001b[0;34m=\u001b[0m \u001b[0midx_e\u001b[0m\u001b[0;34m\u001b[0m\u001b[0;34m\u001b[0m\u001b[0m\n\u001b[0;32m---> 22\u001b[0;31m     \u001b[0;32mwhile\u001b[0m \u001b[0;32mnot\u001b[0m \u001b[0ms\u001b[0m\u001b[0;34m[\u001b[0m\u001b[0midx_s\u001b[0m\u001b[0;34m]\u001b[0m \u001b[0;32min\u001b[0m \u001b[0;34m[\u001b[0m\u001b[0mstr\u001b[0m\u001b[0;34m(\u001b[0m\u001b[0mi\u001b[0m\u001b[0;34m)\u001b[0m \u001b[0;32mfor\u001b[0m \u001b[0mi\u001b[0m \u001b[0;32min\u001b[0m \u001b[0mrange\u001b[0m\u001b[0;34m(\u001b[0m\u001b[0;36m10\u001b[0m\u001b[0;34m)\u001b[0m\u001b[0;34m]\u001b[0m\u001b[0;34m:\u001b[0m\u001b[0;34m\u001b[0m\u001b[0;34m\u001b[0m\u001b[0m\n\u001b[0m\u001b[1;32m     23\u001b[0m         \u001b[0midx_e\u001b[0m \u001b[0;34m+=\u001b[0m \u001b[0;36m1\u001b[0m\u001b[0;34m\u001b[0m\u001b[0;34m\u001b[0m\u001b[0m\n\u001b[1;32m     24\u001b[0m     \u001b[0mprint\u001b[0m\u001b[0;34m(\u001b[0m\u001b[0ms\u001b[0m\u001b[0;34m[\u001b[0m\u001b[0midx_next\u001b[0m\u001b[0;34m:\u001b[0m\u001b[0midx_e\u001b[0m\u001b[0;34m]\u001b[0m\u001b[0;34m)\u001b[0m\u001b[0;34m\u001b[0m\u001b[0;34m\u001b[0m\u001b[0m\n",
      "\u001b[0;32m<ipython-input-46-21aa4a283d13>\u001b[0m in \u001b[0;36m<listcomp>\u001b[0;34m(.0)\u001b[0m\n\u001b[1;32m     20\u001b[0m             \u001b[0midx_e\u001b[0m \u001b[0;34m+=\u001b[0m \u001b[0;36m1\u001b[0m\u001b[0;34m\u001b[0m\u001b[0;34m\u001b[0m\u001b[0m\n\u001b[1;32m     21\u001b[0m     \u001b[0midx_next\u001b[0m \u001b[0;34m=\u001b[0m \u001b[0midx_e\u001b[0m\u001b[0;34m\u001b[0m\u001b[0;34m\u001b[0m\u001b[0m\n\u001b[0;32m---> 22\u001b[0;31m     \u001b[0;32mwhile\u001b[0m \u001b[0;32mnot\u001b[0m \u001b[0ms\u001b[0m\u001b[0;34m[\u001b[0m\u001b[0midx_s\u001b[0m\u001b[0;34m]\u001b[0m \u001b[0;32min\u001b[0m \u001b[0;34m[\u001b[0m\u001b[0mstr\u001b[0m\u001b[0;34m(\u001b[0m\u001b[0mi\u001b[0m\u001b[0;34m)\u001b[0m \u001b[0;32mfor\u001b[0m \u001b[0mi\u001b[0m \u001b[0;32min\u001b[0m \u001b[0mrange\u001b[0m\u001b[0;34m(\u001b[0m\u001b[0;36m10\u001b[0m\u001b[0;34m)\u001b[0m\u001b[0;34m]\u001b[0m\u001b[0;34m:\u001b[0m\u001b[0;34m\u001b[0m\u001b[0;34m\u001b[0m\u001b[0m\n\u001b[0m\u001b[1;32m     23\u001b[0m         \u001b[0midx_e\u001b[0m \u001b[0;34m+=\u001b[0m \u001b[0;36m1\u001b[0m\u001b[0;34m\u001b[0m\u001b[0;34m\u001b[0m\u001b[0m\n\u001b[1;32m     24\u001b[0m     \u001b[0mprint\u001b[0m\u001b[0;34m(\u001b[0m\u001b[0ms\u001b[0m\u001b[0;34m[\u001b[0m\u001b[0midx_next\u001b[0m\u001b[0;34m:\u001b[0m\u001b[0midx_e\u001b[0m\u001b[0;34m]\u001b[0m\u001b[0;34m)\u001b[0m\u001b[0;34m\u001b[0m\u001b[0;34m\u001b[0m\u001b[0m\n",
      "\u001b[0;31mKeyboardInterrupt\u001b[0m: "
     ]
    }
   ],
   "source": [
    "def f(n,s):\n",
    "    if n==0:\n",
    "        return [\"a\",\"b\",\"c\"]\n",
    "    else:\n",
    "        return [\"a\",s+\"b\",s+\"c\"]"
   ]
  },
  {
   "cell_type": "code",
   "execution_count": 55,
   "metadata": {},
   "outputs": [
    {
     "ename": "KeyboardInterrupt",
     "evalue": "",
     "output_type": "error",
     "traceback": [
      "\u001b[0;31m---------------------------------------------------------------\u001b[0m",
      "\u001b[0;31mKeyboardInterrupt\u001b[0m             Traceback (most recent call last)",
      "\u001b[0;32m<ipython-input-55-a2b408d9d4c8>\u001b[0m in \u001b[0;36m<module>\u001b[0;34m\u001b[0m\n\u001b[0;32m----> 1\u001b[0;31m \u001b[0mlist\u001b[0m\u001b[0;34m(\u001b[0m\u001b[0mdecomp\u001b[0m\u001b[0;34m(\u001b[0m\u001b[0;34m\"s\"\u001b[0m\u001b[0;34m)\u001b[0m\u001b[0;34m)\u001b[0m\u001b[0;34m\u001b[0m\u001b[0;34m\u001b[0m\u001b[0m\n\u001b[0m",
      "\u001b[0;32m<ipython-input-51-51506265fde5>\u001b[0m in \u001b[0;36mdecomp\u001b[0;34m(text, start, times)\u001b[0m\n\u001b[1;32m      9\u001b[0m             \u001b[0;31m# Emit letters as themselves.\u001b[0m\u001b[0;34m\u001b[0m\u001b[0;34m\u001b[0m\u001b[0;34m\u001b[0m\u001b[0m\n\u001b[1;32m     10\u001b[0m             \u001b[0;32mif\u001b[0m \u001b[0mtext\u001b[0m\u001b[0;34m[\u001b[0m\u001b[0mi\u001b[0m\u001b[0;34m]\u001b[0m\u001b[0;34m.\u001b[0m\u001b[0mislower\u001b[0m\u001b[0;34m(\u001b[0m\u001b[0;34m)\u001b[0m\u001b[0;34m:\u001b[0m\u001b[0;34m\u001b[0m\u001b[0;34m\u001b[0m\u001b[0m\n\u001b[0;32m---> 11\u001b[0;31m                 \u001b[0;32myield\u001b[0m \u001b[0mtext\u001b[0m\u001b[0;34m[\u001b[0m\u001b[0mi\u001b[0m\u001b[0;34m]\u001b[0m\u001b[0;34m\u001b[0m\u001b[0;34m\u001b[0m\u001b[0m\n\u001b[0m\u001b[1;32m     12\u001b[0m         \u001b[0;31m# If it's not a letter, it must be digit(s).  Convert to integer.\u001b[0m\u001b[0;34m\u001b[0m\u001b[0;34m\u001b[0m\u001b[0;34m\u001b[0m\u001b[0m\n\u001b[1;32m     13\u001b[0m         \u001b[0;32melse\u001b[0m\u001b[0;34m:\u001b[0m\u001b[0;34m\u001b[0m\u001b[0;34m\u001b[0m\u001b[0m\n",
      "\u001b[0;31mKeyboardInterrupt\u001b[0m: "
     ]
    }
   ],
   "source": [
    "list(decomp(\"s\"))"
   ]
  },
  {
   "cell_type": "code",
   "execution_count": 51,
   "metadata": {},
   "outputs": [],
   "source": [
    "#!/usr/bin/env python\n",
    "import sys\n",
    "def decomp(text, start=0, times=1):\n",
    "    # Repeat iteration over our sub-chunk N times.\n",
    "    for _ in range(times):\n",
    "        i = start\n",
    "        # Until we hit the end of the string, or end of our chunk...\n",
    "        while i < len(text) and text[i] != ']':\n",
    "            # Emit letters as themselves.\n",
    "            if text[i].islower():\n",
    "                yield text[i]\n",
    "        # If it's not a letter, it must be digit(s).  Convert to integer.\n",
    "        else:\n",
    "            sub_times = 0\n",
    "            while text[i].isdigit():\n",
    "                sub_times = sub_times * 10 + int(text[i])\n",
    "                i += 1\n",
    "            i += 1  # Skip past open-bracket\n",
    "            # Start an iterator over the sub-chunk.\n",
    "            for item in decomp(text, i, sub_times):\n",
    "                if isinstance(item, basestring):\n",
    "                    yield item\n",
    "                else:\n",
    "                    i = item\n",
    "            i += 1\n",
    "    if start > 0:\n",
    "        yield i\n",
    "def decompress(text):\n",
    "    for letter in decomp(text):\n",
    "        sys.stdout.write(letter)\n",
    "    sys.stdout.write('')\n",
    "\n"
   ]
  },
  {
   "cell_type": "code",
   "execution_count": 56,
   "metadata": {},
   "outputs": [],
   "source": [
    "import heapq"
   ]
  },
  {
   "cell_type": "code",
   "execution_count": 57,
   "metadata": {},
   "outputs": [
    {
     "ename": "TypeError",
     "evalue": "heap argument must be a list",
     "output_type": "error",
     "traceback": [
      "\u001b[0;31m---------------------------------------------------------------\u001b[0m",
      "\u001b[0;31mTypeError\u001b[0m                     Traceback (most recent call last)",
      "\u001b[0;32m<ipython-input-57-7d63cd4f0513>\u001b[0m in \u001b[0;36m<module>\u001b[0;34m\u001b[0m\n\u001b[1;32m      4\u001b[0m \u001b[0mn\u001b[0m \u001b[0;34m=\u001b[0m \u001b[0mlen\u001b[0m\u001b[0;34m(\u001b[0m\u001b[0mstones\u001b[0m\u001b[0;34m)\u001b[0m\u001b[0;34m\u001b[0m\u001b[0;34m\u001b[0m\u001b[0m\n\u001b[1;32m      5\u001b[0m \u001b[0;32mwhile\u001b[0m \u001b[0mn\u001b[0m \u001b[0;34m>\u001b[0m \u001b[0;36m1\u001b[0m\u001b[0;34m:\u001b[0m\u001b[0;34m\u001b[0m\u001b[0;34m\u001b[0m\u001b[0m\n\u001b[0;32m----> 6\u001b[0;31m     \u001b[0ma\u001b[0m \u001b[0;34m=\u001b[0m \u001b[0mheapq\u001b[0m\u001b[0;34m.\u001b[0m\u001b[0mheappop\u001b[0m\u001b[0;34m(\u001b[0m\u001b[0ml\u001b[0m\u001b[0;34m)\u001b[0m\u001b[0;34m\u001b[0m\u001b[0;34m\u001b[0m\u001b[0m\n\u001b[0m\u001b[1;32m      7\u001b[0m     \u001b[0mb\u001b[0m \u001b[0;34m=\u001b[0m \u001b[0mheapq\u001b[0m\u001b[0;34m.\u001b[0m\u001b[0mheappop\u001b[0m\u001b[0;34m(\u001b[0m\u001b[0ml\u001b[0m\u001b[0;34m)\u001b[0m\u001b[0;34m\u001b[0m\u001b[0;34m\u001b[0m\u001b[0m\n\u001b[1;32m      8\u001b[0m     \u001b[0;32mif\u001b[0m \u001b[0ma\u001b[0m \u001b[0;34m==\u001b[0m \u001b[0mb\u001b[0m\u001b[0;34m:\u001b[0m\u001b[0;34m\u001b[0m\u001b[0;34m\u001b[0m\u001b[0m\n",
      "\u001b[0;31mTypeError\u001b[0m: heap argument must be a list"
     ]
    }
   ],
   "source": [
    "stones =[5,4,7,2,1,2]\n",
    "stones = [-i for i in stones]\n",
    "l = heapq.heapify(stones)\n",
    "n = len(stones)\n",
    "while n > 1:\n",
    "    a = heapq.heappop(l)\n",
    "    b = heapq.heappop(l)\n",
    "    if a == b:\n",
    "        n -=2\n",
    "    else:\n",
    "        heapq.heappush(l,-abs(a-b))\n",
    "        n -= 1\n",
    "if n == 0:\n",
    "    return 0\n",
    "else:\n",
    "    return -heapq.heappop(l)"
   ]
  },
  {
   "cell_type": "code",
   "execution_count": 61,
   "metadata": {},
   "outputs": [],
   "source": [
    "heapq.heapify([5,3])"
   ]
  },
  {
   "cell_type": "code",
   "execution_count": 66,
   "metadata": {},
   "outputs": [],
   "source": [
    "from itertools import accumulate"
   ]
  },
  {
   "cell_type": "code",
   "execution_count": 68,
   "metadata": {},
   "outputs": [
    {
     "data": {
      "text/plain": [
       "<itertools.accumulate at 0x12046cf80>"
      ]
     },
     "execution_count": 68,
     "metadata": {},
     "output_type": "execute_result"
    }
   ],
   "source": [
    "accumulate([3,5,])"
   ]
  },
  {
   "cell_type": "code",
   "execution_count": null,
   "metadata": {},
   "outputs": [],
   "source": []
  }
 ],
 "metadata": {
  "kernelspec": {
   "display_name": "Python 3",
   "language": "python",
   "name": "python3"
  },
  "language_info": {
   "codemirror_mode": {
    "name": "ipython",
    "version": 3
   },
   "file_extension": ".py",
   "mimetype": "text/x-python",
   "name": "python",
   "nbconvert_exporter": "python",
   "pygments_lexer": "ipython3",
   "version": "3.8.2"
  }
 },
 "nbformat": 4,
 "nbformat_minor": 4
}
